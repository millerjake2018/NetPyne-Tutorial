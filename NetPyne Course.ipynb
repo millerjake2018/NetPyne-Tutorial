{
 "cells": [
  {
   "cell_type": "markdown",
   "id": "cb75a9a3",
   "metadata": {},
   "source": [
    "# Heading"
   ]
  },
  {
   "cell_type": "markdown",
   "id": "54f9833d",
   "metadata": {},
   "source": [
    "## Small Heading"
   ]
  },
  {
   "cell_type": "code",
   "execution_count": 6,
   "id": "7e5c44bc",
   "metadata": {},
   "outputs": [
    {
     "name": "stdout",
     "output_type": "stream",
     "text": [
      "Collecting neuron\n",
      "  Downloading NEURON-8.2.4-cp39-cp39-macosx_10_15_x86_64.whl (14.0 MB)\n",
      "\u001b[K     |████████████████████████████████| 14.0 MB 4.4 MB/s eta 0:00:01 | 10.0 MB 682 kB/s eta 0:00:06\n",
      "\u001b[?25hRequirement already satisfied: packaging in /Users/jakemiller/opt/anaconda3/lib/python3.9/site-packages (from neuron) (21.0)\n",
      "Requirement already satisfied: numpy>=1.9.3 in /Users/jakemiller/opt/anaconda3/lib/python3.9/site-packages (from neuron) (1.20.3)\n",
      "Requirement already satisfied: setuptools in /Users/jakemiller/opt/anaconda3/lib/python3.9/site-packages (from neuron) (58.0.4)\n",
      "Collecting find-libpython\n",
      "  Downloading find_libpython-0.4.0-py3-none-any.whl (8.7 kB)\n",
      "Requirement already satisfied: pyparsing>=2.0.2 in /Users/jakemiller/opt/anaconda3/lib/python3.9/site-packages (from packaging->neuron) (3.0.4)\n",
      "Installing collected packages: find-libpython, neuron\n",
      "Successfully installed find-libpython-0.4.0 neuron-8.2.4\n"
     ]
    }
   ],
   "source": [
    "! pip install neuron"
   ]
  },
  {
   "cell_type": "markdown",
   "id": "23adc548",
   "metadata": {},
   "source": [
    "# Install NetPyne"
   ]
  },
  {
   "cell_type": "code",
   "execution_count": 7,
   "id": "cfa9d156",
   "metadata": {},
   "outputs": [
    {
     "name": "stdout",
     "output_type": "stream",
     "text": [
      "Requirement already satisfied: netpyne in /Users/jakemiller/opt/anaconda3/lib/python3.9/site-packages (1.0.6)\n",
      "Requirement already satisfied: numpy in /Users/jakemiller/opt/anaconda3/lib/python3.9/site-packages (from netpyne) (1.20.3)\n",
      "Requirement already satisfied: schema in /Users/jakemiller/opt/anaconda3/lib/python3.9/site-packages (from netpyne) (0.7.7)\n",
      "Requirement already satisfied: matplotlib in /Users/jakemiller/opt/anaconda3/lib/python3.9/site-packages (from netpyne) (3.4.3)\n",
      "Requirement already satisfied: lfpykit in /Users/jakemiller/opt/anaconda3/lib/python3.9/site-packages (from netpyne) (0.5.1)\n",
      "Requirement already satisfied: matplotlib-scalebar in /Users/jakemiller/opt/anaconda3/lib/python3.9/site-packages (from netpyne) (0.8.1)\n",
      "Requirement already satisfied: scipy in /Users/jakemiller/opt/anaconda3/lib/python3.9/site-packages (from netpyne) (1.7.1)\n",
      "Requirement already satisfied: future in /Users/jakemiller/opt/anaconda3/lib/python3.9/site-packages (from netpyne) (0.18.2)\n",
      "Requirement already satisfied: pandas in /Users/jakemiller/opt/anaconda3/lib/python3.9/site-packages (from netpyne) (1.3.4)\n",
      "Requirement already satisfied: bokeh in /Users/jakemiller/opt/anaconda3/lib/python3.9/site-packages (from netpyne) (2.4.1)\n",
      "Requirement already satisfied: PyYAML>=3.10 in /Users/jakemiller/opt/anaconda3/lib/python3.9/site-packages (from bokeh->netpyne) (6.0)\n",
      "Requirement already satisfied: typing-extensions>=3.10.0 in /Users/jakemiller/opt/anaconda3/lib/python3.9/site-packages (from bokeh->netpyne) (3.10.0.2)\n",
      "Requirement already satisfied: packaging>=16.8 in /Users/jakemiller/opt/anaconda3/lib/python3.9/site-packages (from bokeh->netpyne) (21.0)\n",
      "Requirement already satisfied: pillow>=7.1.0 in /Users/jakemiller/opt/anaconda3/lib/python3.9/site-packages (from bokeh->netpyne) (8.4.0)\n",
      "Requirement already satisfied: tornado>=5.1 in /Users/jakemiller/opt/anaconda3/lib/python3.9/site-packages (from bokeh->netpyne) (6.1)\n",
      "Requirement already satisfied: Jinja2>=2.9 in /Users/jakemiller/opt/anaconda3/lib/python3.9/site-packages (from bokeh->netpyne) (2.11.3)\n",
      "Requirement already satisfied: MarkupSafe>=0.23 in /Users/jakemiller/opt/anaconda3/lib/python3.9/site-packages (from Jinja2>=2.9->bokeh->netpyne) (1.1.1)\n",
      "Requirement already satisfied: pyparsing>=2.0.2 in /Users/jakemiller/opt/anaconda3/lib/python3.9/site-packages (from packaging>=16.8->bokeh->netpyne) (3.0.4)\n",
      "Requirement already satisfied: meautility in /Users/jakemiller/opt/anaconda3/lib/python3.9/site-packages (from lfpykit->netpyne) (1.5.1)\n",
      "Requirement already satisfied: python-dateutil>=2.7 in /Users/jakemiller/opt/anaconda3/lib/python3.9/site-packages (from matplotlib->netpyne) (2.8.2)\n",
      "Requirement already satisfied: kiwisolver>=1.0.1 in /Users/jakemiller/opt/anaconda3/lib/python3.9/site-packages (from matplotlib->netpyne) (1.3.1)\n",
      "Requirement already satisfied: cycler>=0.10 in /Users/jakemiller/opt/anaconda3/lib/python3.9/site-packages (from matplotlib->netpyne) (0.10.0)\n",
      "Requirement already satisfied: six in /Users/jakemiller/opt/anaconda3/lib/python3.9/site-packages (from cycler>=0.10->matplotlib->netpyne) (1.16.0)\n",
      "Requirement already satisfied: pytz>=2017.3 in /Users/jakemiller/opt/anaconda3/lib/python3.9/site-packages (from pandas->netpyne) (2021.3)\n"
     ]
    }
   ],
   "source": [
    "! pip install netpyne"
   ]
  },
  {
   "cell_type": "code",
   "execution_count": 8,
   "id": "7761fbd2",
   "metadata": {},
   "outputs": [],
   "source": [
    "import neuron"
   ]
  },
  {
   "cell_type": "code",
   "execution_count": 9,
   "id": "5d3f3cfe",
   "metadata": {},
   "outputs": [],
   "source": [
    "import netpyne"
   ]
  }
 ],
 "metadata": {
  "kernelspec": {
   "display_name": "Python 3 (ipykernel)",
   "language": "python",
   "name": "python3"
  },
  "language_info": {
   "codemirror_mode": {
    "name": "ipython",
    "version": 3
   },
   "file_extension": ".py",
   "mimetype": "text/x-python",
   "name": "python",
   "nbconvert_exporter": "python",
   "pygments_lexer": "ipython3",
   "version": "3.9.7"
  }
 },
 "nbformat": 4,
 "nbformat_minor": 5
}
